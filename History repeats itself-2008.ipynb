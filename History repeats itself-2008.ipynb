{
 "cells": [
  {
   "cell_type": "code",
   "execution_count": 50,
   "metadata": {},
   "outputs": [],
   "source": [
    "import quandl\n",
    "import seaborn as sns\n",
    "import pandas as pd\n",
    "import numpy as np"
   ]
  },
  {
   "cell_type": "code",
   "execution_count": 141,
   "metadata": {},
   "outputs": [
    {
     "name": "stdout",
     "output_type": "stream",
     "text": [
      "              Open    High     Low    Last Change   S2008    Volume  \\\n",
      "Date                                                                  \n",
      "2008-09-19  1203.5  1280.0  1202.3  1246.0   None  1246.0  133027.0   \n",
      "2008-09-22  1244.1  1250.0  1205.3  1213.8   None  1213.8  107192.0   \n",
      "2008-09-23  1212.9  1222.5  1186.0  1187.0   None  1187.0   52403.0   \n",
      "2008-09-24  1187.8  1210.1  1180.5  1193.0   None  1193.0   46119.0   \n",
      "2008-09-25  1192.1  1224.5  1186.0  1213.6   None  1213.6   43829.0   \n",
      "2008-09-26  1212.6  1222.0  1185.0  1214.5   None  1214.5   51820.0   \n",
      "2008-09-29  1219.4  1221.2  1114.5  1118.8   None  1118.8   46922.0   \n",
      "2008-09-30  1118.6  1175.0  1112.8  1167.4   None  1167.4   68941.0   \n",
      "2008-10-01  1167.2  1172.7  1143.8  1168.4   None  1168.4   94289.0   \n",
      "2008-10-02  1168.0  1174.0  1115.5  1124.4   None  1124.4   51996.0   \n",
      "2008-10-03  1124.7  1160.5  1102.5  1108.3   None  1108.3   51322.0   \n",
      "2008-10-06  1104.2  1104.4  1010.0  1053.3   None  1053.3   54401.0   \n",
      "2008-10-07  1053.9  1077.5  1005.8  1005.8   None  1005.8   84050.0   \n",
      "2008-10-08  1004.4  1043.2   962.5   981.0   None   981.0   73245.0   \n",
      "2008-10-09   981.9  1009.5   906.0   912.5   None   912.5  103256.0   \n",
      "2008-10-10   914.4   942.0   838.5   891.0   None   891.0   80099.0   \n",
      "2008-10-13   909.3  1017.5   909.3  1016.7   None  1016.7  122781.0   \n",
      "2008-10-14  1012.2  1066.5   975.0  1002.3   None  1002.3   75576.0   \n",
      "2008-10-15  1004.8  1008.3   898.0   903.3   None   903.3   79022.0   \n",
      "2008-10-16   903.6   950.0   865.5   941.0   None   941.0   70780.0   \n",
      "\n",
      "            Previous Day Open Interest  \n",
      "Date                                    \n",
      "2008-09-19                    522847.0  \n",
      "2008-09-22                    527643.0  \n",
      "2008-09-23                    528870.0  \n",
      "2008-09-24                    525354.0  \n",
      "2008-09-25                    521999.0  \n",
      "2008-09-26                    538194.0  \n",
      "2008-09-29                    547133.0  \n",
      "2008-09-30                    548936.0  \n",
      "2008-10-01                    563190.0  \n",
      "2008-10-02                    573470.0  \n",
      "2008-10-03                    577499.0  \n",
      "2008-10-06                    578678.0  \n",
      "2008-10-07                    595218.0  \n",
      "2008-10-08                    602414.0  \n",
      "2008-10-09                    607575.0  \n",
      "2008-10-10                    613470.0  \n",
      "2008-10-13                    625577.0  \n",
      "2008-10-14                    635036.0  \n",
      "2008-10-15                    635888.0  \n",
      "2008-10-16                    633845.0  \n",
      "             Open   High    Low   Last Change  S2008   Volume  \\\n",
      "Date                                                            \n",
      "2008-11-28  878.0  896.0  875.1  895.3   None  895.3  35892.0   \n",
      "\n",
      "            Previous Day Open Interest  \n",
      "Date                                    \n",
      "2008-11-28                    620899.0  \n"
     ]
    }
   ],
   "source": [
    "# begdate=\"2008-09-15\" #Laman Brother\n",
    "begdate=\"2008-09-19\"\n",
    "enddate=\"2008-11-30\"\n",
    "S2008 = quandl.get(\"CHRIS/CME_SP1\", start_date=begdate, end_date=enddate)\n",
    "S2008 = S2008.rename(columns={\"Settle\": \"S2008\",})\n",
    "print(S2008.head(20))\n",
    "print(S2008.tail(1))"
   ]
  },
  {
   "cell_type": "code",
   "execution_count": 142,
   "metadata": {},
   "outputs": [
    {
     "name": "stdout",
     "output_type": "stream",
     "text": [
      "1246.0\n",
      "         Open    High     Low    Last Change   S2008    Volume  \\\n",
      "count                                                            \n",
      "0      1203.5  1280.0  1202.3  1246.0   None  1246.0  133027.0   \n",
      "1      1244.1  1250.0  1205.3  1213.8   None  1213.8  107192.0   \n",
      "2      1212.9  1222.5  1186.0  1187.0   None  1187.0   52403.0   \n",
      "3      1187.8  1210.1  1180.5  1193.0   None  1193.0   46119.0   \n",
      "4      1192.1  1224.5  1186.0  1213.6   None  1213.6   43829.0   \n",
      "5      1212.6  1222.0  1185.0  1214.5   None  1214.5   51820.0   \n",
      "6      1219.4  1221.2  1114.5  1118.8   None  1118.8   46922.0   \n",
      "7      1118.6  1175.0  1112.8  1167.4   None  1167.4   68941.0   \n",
      "8      1167.2  1172.7  1143.8  1168.4   None  1168.4   94289.0   \n",
      "9      1168.0  1174.0  1115.5  1124.4   None  1124.4   51996.0   \n",
      "10     1124.7  1160.5  1102.5  1108.3   None  1108.3   51322.0   \n",
      "11     1104.2  1104.4  1010.0  1053.3   None  1053.3   54401.0   \n",
      "12     1053.9  1077.5  1005.8  1005.8   None  1005.8   84050.0   \n",
      "13     1004.4  1043.2   962.5   981.0   None   981.0   73245.0   \n",
      "14      981.9  1009.5   906.0   912.5   None   912.5  103256.0   \n",
      "15      914.4   942.0   838.5   891.0   None   891.0   80099.0   \n",
      "16      909.3  1017.5   909.3  1016.7   None  1016.7  122781.0   \n",
      "17     1012.2  1066.5   975.0  1002.3   None  1002.3   75576.0   \n",
      "18     1004.8  1008.3   898.0   903.3   None   903.3   79022.0   \n",
      "19      903.6   950.0   865.5   941.0   None   941.0   70780.0   \n",
      "\n",
      "       Previous Day Open Interest         prc  \n",
      "count                                          \n",
      "0                        522847.0  100.000000  \n",
      "1                        527643.0   97.415730  \n",
      "2                        528870.0   95.264848  \n",
      "3                        525354.0   95.746388  \n",
      "4                        521999.0   97.399679  \n",
      "5                        538194.0   97.471910  \n",
      "6                        547133.0   89.791332  \n",
      "7                        548936.0   93.691814  \n",
      "8                        563190.0   93.772071  \n",
      "9                        573470.0   90.240770  \n",
      "10                       577499.0   88.948636  \n",
      "11                       578678.0   84.534510  \n",
      "12                       595218.0   80.722311  \n",
      "13                       602414.0   78.731942  \n",
      "14                       607575.0   73.234350  \n",
      "15                       613470.0   71.508828  \n",
      "16                       625577.0   81.597111  \n",
      "17                       635036.0   80.441413  \n",
      "18                       635888.0   72.495987  \n",
      "19                       633845.0   75.521669  \n"
     ]
    }
   ],
   "source": [
    "S2008[\"count\"] = np.arange(len(S2008))\n",
    "S2008.set_index('count', inplace=True)\n",
    "print(S2008.Last[0])\n",
    "S2008[\"prc\"] = S2008.Last.div( S2008.Last[0] )*100\n",
    "print(S2008.head(20))"
   ]
  },
  {
   "cell_type": "code",
   "execution_count": 143,
   "metadata": {},
   "outputs": [
    {
     "name": "stdout",
     "output_type": "stream",
     "text": [
      "              Open    High     Low    Last  Change  Settle   Volume  \\\n",
      "Date                                                                  \n",
      "2020-02-19  3378.4  3393.0  3372.9  3387.0    17.9  3387.2   1861.0   \n",
      "2020-02-20  3394.9  3396.7  3340.0  3369.0    18.0  3369.2   3550.0   \n",
      "2020-02-21  3357.6  3365.1  3328.5  3340.0    29.9  3339.3   5145.0   \n",
      "2020-02-24  3305.8  3307.9  3216.0  3227.5   113.0  3226.3   5174.0   \n",
      "2020-02-25  3221.3  3258.9  3117.5  3131.0    93.7  3132.6   4734.0   \n",
      "2020-02-26  3139.3  3181.0  3091.7  3111.0    22.4  3110.2   4231.0   \n",
      "2020-02-27  3097.2  3116.4  2945.0  2955.0   153.3  2956.9   8917.0   \n",
      "2020-02-28  2952.6  2995.3  2856.0  2970.0     5.8  2951.1  14580.0   \n",
      "2020-03-02  2905.1  3091.0  2890.0  3064.0   114.0  3065.1  15250.0   \n",
      "2020-03-03  3079.3  3136.0  2975.0  3000.0    68.0  2997.1   6717.0   \n",
      "2020-03-04  2989.9  3129.0  2977.3  3112.5   117.6  3114.7   4461.0   \n",
      "2020-03-05  3113.2  3113.2  2998.0  3016.0    99.2  3015.5   6552.0   \n",
      "2020-03-06  3021.4  3036.3  2899.0  2963.0    51.4  2964.1   6370.0   \n",
      "2020-03-09  2878.5  2881.5  2725.0  2747.0   216.4  2747.7  14457.0   \n",
      "2020-03-10  2717.4  2883.0  2695.5  2864.0   118.1  2865.8   7449.0   \n",
      "2020-03-11  2866.4  2868.7  2704.0  2741.5   125.5  2740.3  12342.0   \n",
      "2020-03-12  2746.6  2772.9  2459.0  2468.0   271.4  2468.9  13599.0   \n",
      "2020-03-13  2614.0  2703.0  2490.0  2695.0   227.0  2695.9  13217.0   \n",
      "2020-03-16     NaN     NaN     NaN     NaN   279.7  2416.2  10105.0   \n",
      "2020-03-17     NaN     NaN     NaN     NaN    79.3  2495.5  10460.0   \n",
      "\n",
      "            Previous Day Open Interest  \n",
      "Date                                    \n",
      "2020-02-19                     39194.0  \n",
      "2020-02-20                     40402.0  \n",
      "2020-02-21                     42268.0  \n",
      "2020-02-24                     43863.0  \n",
      "2020-02-25                     46823.0  \n",
      "2020-02-26                     48817.0  \n",
      "2020-02-27                     49854.0  \n",
      "2020-02-28                     53410.0  \n",
      "2020-03-02                     61781.0  \n",
      "2020-03-03                     70042.0  \n",
      "2020-03-04                     74404.0  \n",
      "2020-03-05                     74051.0  \n",
      "2020-03-06                     78868.0  \n",
      "2020-03-09                     83024.0  \n",
      "2020-03-10                     91480.0  \n",
      "2020-03-11                     95458.0  \n",
      "2020-03-12                    102626.0  \n",
      "2020-03-13                    107183.0  \n",
      "2020-03-16                    107994.0  \n",
      "2020-03-17                    109967.0  \n",
      "              Open    High     Low  Last  Change  Settle  Volume  \\\n",
      "Date                                                               \n",
      "2020-04-09  2733.3  2787.2  2703.6   NaN    44.9  2779.8  4214.0   \n",
      "\n",
      "            Previous Day Open Interest  \n",
      "Date                                    \n",
      "2020-04-09                     84448.0  \n"
     ]
    }
   ],
   "source": [
    "begdate=\"2020-02-19\"\n",
    "# begdate=\"2020-02-10\" WuHan Virus\n",
    "enddate=\"2020-04-10\"\n",
    "S2020 = quandl.get(\"CHRIS/CME_SP1\", start_date=begdate, end_date=enddate)\n",
    "# S2020 = S2020.rename(columns={\"Settle\": \"S2020\",})\n",
    "print(S2020.head(20))\n",
    "print(S2020.tail(1))"
   ]
  },
  {
   "cell_type": "code",
   "execution_count": 144,
   "metadata": {},
   "outputs": [
    {
     "name": "stdout",
     "output_type": "stream",
     "text": [
      "3387.0\n",
      "         Open    High     Low    Last  Change  Settle   Volume  \\\n",
      "count                                                            \n",
      "0      3378.4  3393.0  3372.9  3387.0    17.9  3387.2   1861.0   \n",
      "1      3394.9  3396.7  3340.0  3369.0    18.0  3369.2   3550.0   \n",
      "2      3357.6  3365.1  3328.5  3340.0    29.9  3339.3   5145.0   \n",
      "3      3305.8  3307.9  3216.0  3227.5   113.0  3226.3   5174.0   \n",
      "4      3221.3  3258.9  3117.5  3131.0    93.7  3132.6   4734.0   \n",
      "5      3139.3  3181.0  3091.7  3111.0    22.4  3110.2   4231.0   \n",
      "6      3097.2  3116.4  2945.0  2955.0   153.3  2956.9   8917.0   \n",
      "7      2952.6  2995.3  2856.0  2970.0     5.8  2951.1  14580.0   \n",
      "8      2905.1  3091.0  2890.0  3064.0   114.0  3065.1  15250.0   \n",
      "9      3079.3  3136.0  2975.0  3000.0    68.0  2997.1   6717.0   \n",
      "10     2989.9  3129.0  2977.3  3112.5   117.6  3114.7   4461.0   \n",
      "11     3113.2  3113.2  2998.0  3016.0    99.2  3015.5   6552.0   \n",
      "12     3021.4  3036.3  2899.0  2963.0    51.4  2964.1   6370.0   \n",
      "13     2878.5  2881.5  2725.0  2747.0   216.4  2747.7  14457.0   \n",
      "14     2717.4  2883.0  2695.5  2864.0   118.1  2865.8   7449.0   \n",
      "15     2866.4  2868.7  2704.0  2741.5   125.5  2740.3  12342.0   \n",
      "16     2746.6  2772.9  2459.0  2468.0   271.4  2468.9  13599.0   \n",
      "17     2614.0  2703.0  2490.0  2695.0   227.0  2695.9  13217.0   \n",
      "18        NaN     NaN     NaN     NaN   279.7  2416.2  10105.0   \n",
      "19        NaN     NaN     NaN     NaN    79.3  2495.5  10460.0   \n",
      "\n",
      "       Previous Day Open Interest         prc  \n",
      "count                                          \n",
      "0                         39194.0  100.000000  \n",
      "1                         40402.0   99.468556  \n",
      "2                         42268.0   98.612341  \n",
      "3                         43863.0   95.290818  \n",
      "4                         46823.0   92.441689  \n",
      "5                         48817.0   91.851196  \n",
      "6                         49854.0   87.245350  \n",
      "7                         53410.0   87.688220  \n",
      "8                         61781.0   90.463537  \n",
      "9                         70042.0   88.573959  \n",
      "10                        74404.0   91.895483  \n",
      "11                        74051.0   89.046354  \n",
      "12                        78868.0   87.481547  \n",
      "13                        83024.0   81.104222  \n",
      "14                        91480.0   84.558606  \n",
      "15                        95458.0   80.941836  \n",
      "16                       102626.0   72.866844  \n",
      "17                       107183.0   79.568940  \n",
      "18                       107994.0         NaN  \n",
      "19                       109967.0         NaN  \n"
     ]
    }
   ],
   "source": [
    "S2020[\"count\"] = np.arange(len(S2020))\n",
    "S2020.set_index('count', inplace=True)\n",
    "# print(S2020)\n",
    "print(S2020.Last[0])\n",
    "S2020[\"prc\"] = S2020.Last.div( S2020.Last[0] )*100\n",
    "print(S2020.head(20))"
   ]
  },
  {
   "cell_type": "code",
   "execution_count": 145,
   "metadata": {},
   "outputs": [
    {
     "data": {
      "image/png": "[encoded data removed]",
      "text/plain": [
       "<Figure size 432x288 with 1 Axes>"
      ]
     },
     "metadata": {
      "needs_background": "light"
     },
     "output_type": "display_data"
    }
   ],
   "source": [
    "import matplotlib.pyplot as plt\n",
    "\n",
    "plt.plot(S2008.prc, 'b', label='2008')\n",
    "plt.plot(S2020.prc, 'r-', label='2020')\n",
    "plt.legend(loc='best')\n",
    "plt.ylim(40, 110)\n",
    "plt.grid()\n",
    "plt.show()"
   ]
  },
  {
   "cell_type": "code",
   "execution_count": null,
   "metadata": {},
   "outputs": [],
   "source": []
  },
  {
   "cell_type": "code",
   "execution_count": null,
   "metadata": {},
   "outputs": [],
   "source": []
  },
  {
   "cell_type": "code",
   "execution_count": 77,
   "metadata": {},
   "outputs": [
    {
     "data": {
      "image/png": "[encoded data removed]",
      "text/plain": [
       "<Figure size 432x288 with 1 Axes>"
      ]
     },
     "metadata": {
      "needs_background": "light"
     },
     "output_type": "display_data"
    }
   ],
   "source": [
    "import matplotlib.pyplot as plt\n",
    "\n",
    "plt.plot(S2008.prc, 'b-', label='2008')\n",
    "plt.plot(S2020.prc, 'g-', label='2020')\n",
    "plt.legend(loc='best')\n",
    "\n",
    "plt.grid()\n",
    "plt.show()"
   ]
  }
 ],
 "metadata": {
  "kernelspec": {
   "display_name": "Python 3",
   "language": "python",
   "name": "python3"
  },
  "language_info": {
   "codemirror_mode": {
    "name": "ipython",
    "version": 3
   },
   "file_extension": ".py",
   "mimetype": "text/x-python",
   "name": "python",
   "nbconvert_exporter": "python",
   "pygments_lexer": "ipython3",
   "version": "3.6.10"
  }
 },
 "nbformat": 4,
 "nbformat_minor": 2
}
